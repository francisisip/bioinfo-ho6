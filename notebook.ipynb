{
 "cells": [
  {
   "cell_type": "markdown",
   "id": "24679136",
   "metadata": {},
   "source": [
    "# Hands-on Activity 6: Building a profile HMM of the HIV pol region\n",
    "\n",
    "CSC771M \n",
    "Members: Bawa, Roxas, Uy"
   ]
  },
  {
   "cell_type": "code",
   "execution_count": 26,
   "id": "df39626a",
   "metadata": {},
   "outputs": [],
   "source": [
    "# importing dependencies\n",
    "import requests\n",
    "import pandas as pd\n",
    "import io\n",
    "import time\n",
    "from time import sleep\n",
    "import subprocess\n",
    "from Bio import AlignIO\n",
    "from collections import Counter\n",
    "import matplotlib.pyplot as plt\n",
    "import re\n",
    "import seaborn as sns\n",
    "import numpy as np\n"
   ]
  },
  {
   "cell_type": "markdown",
   "id": "54001e84",
   "metadata": {},
   "source": [
    "## Step 1: Collecting HIV-1 gag-pol Protein Sequences\n",
    "For the first step, we gathered the necessary input data which were the HIV-1 gag-pol polyprotein sequences. Rather than relying on a single reference genome (such as the previous Hands-On), which may not sufficiently represent the genetic diversity of HIV-1, we aim to build a more comprehensive model using sequences from multiple subtypes. We retrieved 30 reviewed (Swiss-Prot) gag-pol sequences from the UniProtKB database. These sequences will later be aligned and used to train a robust pHMM that can more effectively capture the variability of the pol region across different HIV strains."
   ]
  },
  {
   "cell_type": "code",
   "execution_count": 27,
   "id": "1d0760ac",
   "metadata": {},
   "outputs": [],
   "source": [
    "# Set up basic parameters\n",
    "BASE_URL = \"https://rest.uniprot.org/uniprotkb/search\"\n",
    "HEADERS = {\n",
    "    'User-Agent': 'Mozilla/5.0 (compatible; bioinformatics-student/1.0)'\n",
    "}"
   ]
  },
  {
   "cell_type": "code",
   "execution_count": 28,
   "id": "d1d41fda",
   "metadata": {},
   "outputs": [],
   "source": [
    "# Define query functions\n",
    "def search_uniprot(query, format_type=\"fasta\", limit=500):\n",
    "    params = {\n",
    "        'query': query,\n",
    "        'format': format_type,\n",
    "        'size': limit\n",
    "    }\n",
    "    \n",
    "    try:\n",
    "        response = requests.get(BASE_URL, params=params, headers=HEADERS)\n",
    "        response.raise_for_status()\n",
    "        \n",
    "        if format_type == \"fasta\":\n",
    "            return response.text\n",
    "        elif format_type == \"tsv\":\n",
    "            return pd.read_csv(io.StringIO(response.text), sep='\\t')\n",
    "        else:\n",
    "            return response.json()\n",
    "            \n",
    "    except requests.RequestException as e:\n",
    "        print(f\"Error fetching data: {e}\")\n",
    "        return None\n",
    "\n",
    "def get_fasta(accession):\n",
    "    url = f\"https://rest.uniprot.org/uniprotkb/{accession}.fasta\"\n",
    "    \n",
    "    try:\n",
    "        response = requests.get(url)\n",
    "        response.raise_for_status()\n",
    "        return response.text\n",
    "    except requests.RequestException as e:\n",
    "        print(f\"Error fetching FASTA for {accession}: {e}\")\n",
    "        return None"
   ]
  },
  {
   "cell_type": "code",
   "execution_count": 29,
   "id": "f09734fc",
   "metadata": {},
   "outputs": [
    {
     "name": "stdout",
     "output_type": "stream",
     "text": [
      "Searching UniProt for HIV gag-pol sequences...\n",
      "Query: taxonomy_id:11676 AND (gag-pol OR \"gag pol\") AND reviewed:true \n",
      "\n",
      "Found 79 potential sequences\n",
      "\n",
      "Columns available: ['Entry', 'Entry Name', 'Reviewed', 'Protein names', 'Gene Names', 'Organism', 'Length']\n",
      "\n",
      "First few entries:\n"
     ]
    },
    {
     "data": {
      "application/vnd.microsoft.datawrangler.viewer.v0+json": {
       "columns": [
        {
         "name": "index",
         "rawType": "int64",
         "type": "integer"
        },
        {
         "name": "Entry",
         "rawType": "object",
         "type": "string"
        },
        {
         "name": "Entry Name",
         "rawType": "object",
         "type": "string"
        },
        {
         "name": "Reviewed",
         "rawType": "object",
         "type": "string"
        },
        {
         "name": "Protein names",
         "rawType": "object",
         "type": "string"
        },
        {
         "name": "Gene Names",
         "rawType": "object",
         "type": "string"
        },
        {
         "name": "Organism",
         "rawType": "object",
         "type": "string"
        },
        {
         "name": "Length",
         "rawType": "int64",
         "type": "integer"
        }
       ],
       "ref": "50856a59-c1c0-4d58-9db9-0bf1111db5a6",
       "rows": [
        [
         "0",
         "P12498",
         "POL_HV1J3",
         "reviewed",
         "Gag-Pol polyprotein (Pr160Gag-Pol) [Cleaved into: Matrix protein p17 (MA); Capsid protein p24 (CA); Spacer peptide 1 (SP1) (p2); Nucleocapsid protein p7 (NC); Transframe peptide (TF); p6-pol (p6*); Protease (EC 3.4.23.16) (PR) (Retropepsin)]",
         "gag-pol",
         "Human immunodeficiency virus type 1 group M subtype B (isolate JH32) (HIV-1)",
         "532"
        ],
        [
         "1",
         "P05960",
         "POL_HV1C4",
         "reviewed",
         "Gag-Pol polyprotein (Pr160Gag-Pol) [Cleaved into: Matrix protein p17 (MA); Capsid protein p24 (CA); Spacer peptide 1 (SP1) (p2); Nucleocapsid protein p7 (NC); Transframe peptide (TF); p6-pol (p6*); Protease (EC 3.4.23.16) (PR) (Retropepsin)]",
         "gag-pol",
         "Human immunodeficiency virus type 1 group M subtype B (isolate CDC-451) (HIV-1)",
         "550"
        ],
        [
         "2",
         "P18802",
         "POL_HV1ND",
         "reviewed",
         "Gag-Pol polyprotein (Pr160Gag-Pol) [Cleaved into: Matrix protein p17 (MA); Capsid protein p24 (CA); Spacer peptide 1 (SP1) (p2); Nucleocapsid protein p7 (NC); Transframe peptide (TF); p6-pol (p6*); Protease (EC 3.4.23.16) (PR) (Retropepsin); Reverse transcriptase/ribonuclease H (EC 2.7.7.49) (EC 2.7.7.7) (EC 3.1.26.13) (Exoribonuclease H) (EC 3.1.13.2) (p66 RT); p51 RT; p15; Integrase (IN) (EC 2.7.7.-) (EC 3.1.-.-)]",
         "gag-pol",
         "Human immunodeficiency virus type 1 group M subtype D (isolate NDK) (HIV-1)",
         "1432"
        ],
        [
         "3",
         "P03367",
         "POL_HV1BR",
         "reviewed",
         "Gag-Pol polyprotein (Pr160Gag-Pol) [Cleaved into: Matrix protein p17 (MA); Capsid protein p24 (CA); Spacer peptide 1 (SP1) (p2); Nucleocapsid protein p7 (NC); Transframe peptide (TF); p6-pol (p6*); Protease (EC 3.4.23.16) (PR) (Retropepsin); Reverse transcriptase/ribonuclease H (EC 2.7.7.49) (EC 2.7.7.7) (EC 3.1.26.13) (Exoribonuclease H) (EC 3.1.13.2) (p66 RT); p51 RT; p15; Integrase (IN) (EC 2.7.7.-) (EC 3.1.-.-)]",
         "gag-pol",
         "Human immunodeficiency virus type 1 group M subtype B (isolate BRU/LAI) (HIV-1)",
         "1447"
        ],
        [
         "4",
         "O12158",
         "POL_HV192",
         "reviewed",
         "Gag-Pol polyprotein (Pr160Gag-Pol) [Cleaved into: Matrix protein p17 (MA); Capsid protein p24 (CA); Spacer peptide 1 (SP1) (p2); Nucleocapsid protein p7 (NC); Transframe peptide (TF); p6-pol (p6*); Protease (EC 3.4.23.16) (PR) (Retropepsin); Reverse transcriptase/ribonuclease H (EC 2.7.7.49) (EC 2.7.7.7) (EC 3.1.26.13) (Exoribonuclease H) (EC 3.1.13.2) (p66 RT); p51 RT; p15; Integrase (IN) (EC 2.7.7.-) (EC 3.1.-.-)]",
         "gag-pol",
         "Human immunodeficiency virus type 1 group M subtype C (isolate 92BR025) (HIV-1)",
         "1431"
        ]
       ],
       "shape": {
        "columns": 7,
        "rows": 5
       }
      },
      "text/html": [
       "<div>\n",
       "<style scoped>\n",
       "    .dataframe tbody tr th:only-of-type {\n",
       "        vertical-align: middle;\n",
       "    }\n",
       "\n",
       "    .dataframe tbody tr th {\n",
       "        vertical-align: top;\n",
       "    }\n",
       "\n",
       "    .dataframe thead th {\n",
       "        text-align: right;\n",
       "    }\n",
       "</style>\n",
       "<table border=\"1\" class=\"dataframe\">\n",
       "  <thead>\n",
       "    <tr style=\"text-align: right;\">\n",
       "      <th></th>\n",
       "      <th>Entry</th>\n",
       "      <th>Entry Name</th>\n",
       "      <th>Reviewed</th>\n",
       "      <th>Protein names</th>\n",
       "      <th>Gene Names</th>\n",
       "      <th>Organism</th>\n",
       "      <th>Length</th>\n",
       "    </tr>\n",
       "  </thead>\n",
       "  <tbody>\n",
       "    <tr>\n",
       "      <th>0</th>\n",
       "      <td>P12498</td>\n",
       "      <td>POL_HV1J3</td>\n",
       "      <td>reviewed</td>\n",
       "      <td>Gag-Pol polyprotein (Pr160Gag-Pol) [Cleaved in...</td>\n",
       "      <td>gag-pol</td>\n",
       "      <td>Human immunodeficiency virus type 1 group M su...</td>\n",
       "      <td>532</td>\n",
       "    </tr>\n",
       "    <tr>\n",
       "      <th>1</th>\n",
       "      <td>P05960</td>\n",
       "      <td>POL_HV1C4</td>\n",
       "      <td>reviewed</td>\n",
       "      <td>Gag-Pol polyprotein (Pr160Gag-Pol) [Cleaved in...</td>\n",
       "      <td>gag-pol</td>\n",
       "      <td>Human immunodeficiency virus type 1 group M su...</td>\n",
       "      <td>550</td>\n",
       "    </tr>\n",
       "    <tr>\n",
       "      <th>2</th>\n",
       "      <td>P18802</td>\n",
       "      <td>POL_HV1ND</td>\n",
       "      <td>reviewed</td>\n",
       "      <td>Gag-Pol polyprotein (Pr160Gag-Pol) [Cleaved in...</td>\n",
       "      <td>gag-pol</td>\n",
       "      <td>Human immunodeficiency virus type 1 group M su...</td>\n",
       "      <td>1432</td>\n",
       "    </tr>\n",
       "    <tr>\n",
       "      <th>3</th>\n",
       "      <td>P03367</td>\n",
       "      <td>POL_HV1BR</td>\n",
       "      <td>reviewed</td>\n",
       "      <td>Gag-Pol polyprotein (Pr160Gag-Pol) [Cleaved in...</td>\n",
       "      <td>gag-pol</td>\n",
       "      <td>Human immunodeficiency virus type 1 group M su...</td>\n",
       "      <td>1447</td>\n",
       "    </tr>\n",
       "    <tr>\n",
       "      <th>4</th>\n",
       "      <td>O12158</td>\n",
       "      <td>POL_HV192</td>\n",
       "      <td>reviewed</td>\n",
       "      <td>Gag-Pol polyprotein (Pr160Gag-Pol) [Cleaved in...</td>\n",
       "      <td>gag-pol</td>\n",
       "      <td>Human immunodeficiency virus type 1 group M su...</td>\n",
       "      <td>1431</td>\n",
       "    </tr>\n",
       "  </tbody>\n",
       "</table>\n",
       "</div>"
      ],
      "text/plain": [
       "    Entry Entry Name  Reviewed  \\\n",
       "0  P12498  POL_HV1J3  reviewed   \n",
       "1  P05960  POL_HV1C4  reviewed   \n",
       "2  P18802  POL_HV1ND  reviewed   \n",
       "3  P03367  POL_HV1BR  reviewed   \n",
       "4  O12158  POL_HV192  reviewed   \n",
       "\n",
       "                                       Protein names Gene Names  \\\n",
       "0  Gag-Pol polyprotein (Pr160Gag-Pol) [Cleaved in...    gag-pol   \n",
       "1  Gag-Pol polyprotein (Pr160Gag-Pol) [Cleaved in...    gag-pol   \n",
       "2  Gag-Pol polyprotein (Pr160Gag-Pol) [Cleaved in...    gag-pol   \n",
       "3  Gag-Pol polyprotein (Pr160Gag-Pol) [Cleaved in...    gag-pol   \n",
       "4  Gag-Pol polyprotein (Pr160Gag-Pol) [Cleaved in...    gag-pol   \n",
       "\n",
       "                                            Organism  Length  \n",
       "0  Human immunodeficiency virus type 1 group M su...     532  \n",
       "1  Human immunodeficiency virus type 1 group M su...     550  \n",
       "2  Human immunodeficiency virus type 1 group M su...    1432  \n",
       "3  Human immunodeficiency virus type 1 group M su...    1447  \n",
       "4  Human immunodeficiency virus type 1 group M su...    1431  "
      ]
     },
     "metadata": {},
     "output_type": "display_data"
    }
   ],
   "source": [
    "hiv_query = (\n",
    "    'taxonomy_id:11676 '\n",
    "    'AND (gag-pol OR \"gag pol\") '\n",
    "    'AND reviewed:true '\n",
    ")\n",
    "\n",
    "print(\"Searching UniProt for HIV gag-pol sequences...\")\n",
    "print(f\"Query: {hiv_query}\")\n",
    "\n",
    "metadata_query = hiv_query\n",
    "metadata = search_uniprot(metadata_query, format_type=\"tsv\", limit=100)\n",
    "\n",
    "if metadata is not None:\n",
    "    print(f\"\\nFound {len(metadata)} potential sequences\")\n",
    "    print(\"\\nColumns available:\", list(metadata.columns))\n",
    "    print(\"\\nFirst few entries:\")\n",
    "    display(metadata.head())\n",
    "else:\n",
    "    print(\"No results found with the current query\")"
   ]
  },
  {
   "cell_type": "markdown",
   "id": "f77fd2d4",
   "metadata": {},
   "source": [
    "Here we can see that we found 79 potential sequences from our query search. To build a diverse and representative profile HMM, we want gag-pol sequences from different subtypes of HIV-1. So for this project, we chose Group M, which is the major pandemic group and contains subtypes A–K, to be representative of the different types of HIV-1. After a quick review in UniProtKB, we simply had to change our query with ```taxonomy_id:388795```."
   ]
  },
  {
   "cell_type": "code",
   "execution_count": 30,
   "id": "376e80f0",
   "metadata": {},
   "outputs": [
    {
     "name": "stdout",
     "output_type": "stream",
     "text": [
      "\n",
      "Searching UniProt for HIV-1 gag-pol sequences...\n",
      "Query: taxonomy_id:388795 AND (gag-pol OR \"gag pol\") AND reviewed:true \n",
      "Organism\n",
      "Human immunodeficiency virus type 1 group M subtype C (isolate 92BR025) (HIV-1)        2\n",
      "Human immunodeficiency virus type 1 group M subtype G (isolate SE6165) (HIV-1)         2\n",
      "Human immunodeficiency virus type 1 group M subtype B (isolate ARV2/SF2) (HIV-1)       2\n",
      "Human immunodeficiency virus type 1 group M subtype H (isolate 90CF056) (HIV-1)        2\n",
      "Human immunodeficiency virus type 1 group M subtype J (isolate SE9280) (HIV-1)         2\n",
      "Human immunodeficiency virus type 1 group M subtype F1 (isolate VI850) (HIV-1)         2\n",
      "Human immunodeficiency virus type 1 group M subtype H (isolate VI991) (HIV-1)          2\n",
      "Human immunodeficiency virus type 1 group M subtype C (isolate ETH2220) (HIV-1)        2\n",
      "Human immunodeficiency virus type 1 group M subtype G (isolate 92NG083) (HIV-1)        2\n",
      "Human immunodeficiency virus type 1 group M subtype J (isolate SE9173) (HIV-1)         2\n",
      "Human immunodeficiency virus type 1 group M subtype F2 (isolate MP257) (HIV-1)         2\n",
      "Human immunodeficiency virus type 1 group M subtype B (strain 89.6) (HIV-1)            2\n",
      "Human immunodeficiency virus type 1 group M subtype F1 (isolate 93BR020) (HIV-1)       2\n",
      "Human immunodeficiency virus type 1 group M subtype K (isolate 97ZR-EQTB11) (HIV-1)    2\n",
      "Human immunodeficiency virus type 1 group M subtype K (isolate 96CM-MP535) (HIV-1)     2\n",
      "Human immunodeficiency virus type 1 group M subtype B (isolate MN) (HIV-1)             2\n",
      "Human immunodeficiency virus type 1 group M subtype F2 (isolate MP255) (HIV-1)         2\n",
      "Human immunodeficiency virus type 1 group M subtype B (isolate HXB2) (HIV-1)           2\n",
      "Name: count, dtype: int64\n",
      "\n",
      "Total number of sequences found: 36\n"
     ]
    }
   ],
   "source": [
    "revised_query = (\n",
    "    'taxonomy_id:388795 '\n",
    "    'AND (gag-pol OR \"gag pol\") '\n",
    "    'AND reviewed:true '\n",
    ")\n",
    "\n",
    "print(\"\\nSearching UniProt for HIV-1 gag-pol sequences...\")\n",
    "print(f\"Query: {revised_query}\")\n",
    "\n",
    "metadata_revised = search_uniprot(revised_query, format_type=\"tsv\", limit=100)\n",
    "\n",
    "if metadata_revised is not None:\n",
    "    pd.set_option('display.max_colwidth', None)\n",
    "    print(metadata_revised['Organism'].value_counts())\n",
    "    pd.reset_option('display.max_colwidth')\n",
    "else:\n",
    "    print(\"No results found with the current query\")\n",
    "\n",
    "# Count total number of sequences\n",
    "total_sequences = len(metadata_revised)\n",
    "print(f\"\\nTotal number of sequences found: {total_sequences}\")"
   ]
  },
  {
   "cell_type": "code",
   "execution_count": 31,
   "id": "b90dfd5f",
   "metadata": {},
   "outputs": [
    {
     "name": "stdout",
     "output_type": "stream",
     "text": [
      "Saved 36 sequences to hiv1_groupM_gagpol.fasta\n"
     ]
    }
   ],
   "source": [
    "fasta_sequences = []\n",
    "\n",
    "for acc in metadata_revised['Entry']:\n",
    "    fasta = get_fasta(acc)\n",
    "    if fasta:\n",
    "        fasta_sequences.append(fasta)\n",
    "    time.sleep(1)\n",
    "\n",
    "with open(\"hiv1_groupM_gagpol.fasta\", \"w\") as f:\n",
    "    f.write('\\n'.join(fasta_sequences))\n",
    "\n",
    "print(f\"Saved {len(fasta_sequences)} sequences to hiv1_groupM_gagpol.fasta\")"
   ]
  },
  {
   "cell_type": "markdown",
   "id": "f7c346d3",
   "metadata": {},
   "source": [
    "## Step 2: Multiple Sequence Alignment of gag-pol Sequences\n",
    "With our curated dataset of HIV-1 group M gag-pol polyproteins in hand, we now proceed to align the sequences using MAFFT, a widely used tool for multiple sequence alignment (MSA). This step is crucial for identifying conserved and variable regions across the different HIV subtypes. By aligning these sequences, we create a structured representation of homologous positions, which serves as the foundation for building a profile Hidden Markov Model (pHMM). The output of this step is an aligned FASTA file containing all sequences in a consistent frame, ready for conversion into a statistical model using HMMER. For our case, we opted to rely on its ```--auto``` mode which intelligently selects the appropriate algorithm based on the input size and complexity. "
   ]
  },
  {
   "cell_type": "code",
   "execution_count": 32,
   "id": "69b94644",
   "metadata": {},
   "outputs": [
    {
     "name": "stderr",
     "output_type": "stream",
     "text": [
      "outputhat23=16\n",
      "treein = 0\n",
      "compacttree = 0\n",
      "stacksize: 8176 kb\n",
      "rescale = 1\n",
      "All-to-all alignment.\n",
      "tbfast-pair (aa) Version 7.526\n",
      "alg=L, model=BLOSUM62, 2.00, -0.10, +0.10, noshift, amax=0.0\n",
      "0 thread(s)\n",
      "\n",
      "outputhat23=16\n",
      "Loading 'hat3.seed' ... \n",
      "done.\n",
      "Writing hat3 for iterative refinement\n",
      "rescale = 1\n",
      "Gap Penalty = -1.53, +0.00, +0.00\n",
      "tbutree = 1, compacttree = 0\n",
      "Constructing a UPGMA tree ... \n",
      "   30 / 36\n",
      "done.\n",
      "\n",
      "Progressive alignment ... \n",
      "STEP    23 /35 \n",
      "Reallocating..done. *alloclen = 3885\n",
      "STEP    35 /35 \n",
      "done.\n",
      "tbfast (aa) Version 7.526\n",
      "alg=A, model=BLOSUM62, 1.53, -0.00, -0.00, noshift, amax=0.0\n",
      "1 thread(s)\n",
      "\n",
      "minimumweight = 0.000010\n",
      "autosubalignment = 0.000000\n",
      "nthread = 0\n",
      "randomseed = 0\n",
      "blosum 62 / kimura 200\n",
      "poffset = 0\n",
      "niter = 16\n",
      "sueff_global = 0.100000\n",
      "nadd = 16\n",
      "Loading 'hat3' ... done.\n",
      "rescale = 1\n",
      "\n",
      "   30 / 36\n",
      "Segment   1/  1    1-1467\n",
      "STEP 002-001-1  identical.    identical.   "
     ]
    },
    {
     "name": "stdout",
     "output_type": "stream",
     "text": [
      "Alignment saved to hiv1_groupM_gagpol_aligned.fasta\n"
     ]
    },
    {
     "name": "stderr",
     "output_type": "stream",
     "text": [
      "STEP 003-021-1  identical.   \n",
      "Converged.\n",
      "\n",
      "done\n",
      "dvtditr (aa) Version 7.526\n",
      "alg=A, model=BLOSUM62, 1.53, -0.00, -0.00, noshift, amax=0.0\n",
      "0 thread(s)\n",
      "\n",
      "\n",
      "Strategy:\n",
      " L-INS-i (Probably most accurate, very slow)\n",
      " Iterative refinement method (<16) with LOCAL pairwise alignment information\n",
      "\n",
      "If unsure which option to use, try 'mafft --auto input > output'.\n",
      "For more information, see 'mafft --help', 'mafft --man' and the mafft page.\n",
      "\n",
      "The default gap scoring scheme has been changed in version 7.110 (2013 Oct).\n",
      "It tends to insert more gaps into gap-rich regions than previous versions.\n",
      "To disable this change, add the --leavegappyregion option.\n",
      "\n"
     ]
    }
   ],
   "source": [
    "\n",
    "input_fasta = \"hiv1_groupM_gagpol.fasta\"\n",
    "output_fasta = \"hiv1_groupM_gagpol_aligned.fasta\"\n",
    "\n",
    "command = [\"mafft\", \"--auto\", input_fasta]\n",
    "\n",
    "with open(output_fasta, \"w\") as out_f:\n",
    "    subprocess.run(command, stdout=out_f)\n",
    "\n",
    "print(f\"Alignment saved to {output_fasta}\")"
   ]
  },
  {
   "cell_type": "code",
   "execution_count": 33,
   "id": "e39ff390",
   "metadata": {},
   "outputs": [
    {
     "data": {
      "image/png": "[encoded data removed]",
      "text/plain": [
       "<Figure size 1400x300 with 1 Axes>"
      ]
     },
     "metadata": {},
     "output_type": "display_data"
    }
   ],
   "source": [
    "# Load the aligned FASTA file\n",
    "alignment = AlignIO.read(\"hiv1_groupM_gagpol_aligned.fasta\", \"fasta\")\n",
    "\n",
    "# Calculate conservation score at each position\n",
    "conservation_scores = []\n",
    "\n",
    "for i in range(alignment.get_alignment_length()):\n",
    "    column = alignment[:, i]  # Get all residues at position i\n",
    "    counts = Counter(column)\n",
    "    most_common_residue, freq = counts.most_common(1)[0]\n",
    "    conservation_scores.append(freq / len(alignment))  # Normalize by number of sequences\n",
    "\n",
    "# Plotting\n",
    "plt.figure(figsize=(14, 3))\n",
    "plt.plot(conservation_scores, color='darkblue', linewidth=0.8)\n",
    "plt.title(\"Residue Conservation Across HIV-1 gag-pol MSA\", fontsize=14)\n",
    "plt.xlabel(\"Alignment Position\", fontsize=12)\n",
    "plt.ylabel(\"Conservation Score\", fontsize=12)\n",
    "plt.ylim(0, 1.05)\n",
    "plt.grid(True, linestyle='--', alpha=0.5)\n",
    "plt.tight_layout()\n",
    "plt.show()"
   ]
  },
  {
   "cell_type": "markdown",
   "id": "2af28cb0",
   "metadata": {},
   "source": [
    "The plot above shows the residue conservation score at each position of the multiple sequence alignment. A residue conservation score measures how similar the amino acids are at each aligned position across all sequences. A score of 1.0 means that every sequence has the same amino acid at that position (fully conserved), while lower scores mean there is more variation among the sequences. In this specific scenario for HIV-1 gag-pol polyprotein, positions with low conservation often show where mutations happen more frequently between different virus strains. It is particularly noticeable that from around position 500 onwards, the conservation score remains fairly consistent at approximately 0.5. These variable regions may be linked to how the virus adapts or becomes resistant to treatment. These conserved patterns will help guide the construction of a reliable profile Hidden Markov Model in the next step."
   ]
  },
  {
   "cell_type": "markdown",
   "id": "02996681",
   "metadata": {},
   "source": [
    "## Step 3: Building a Profile HMM Using HMMER\n",
    "With our multiple sequence alignment of HIV-1 gag-pol polyproteins complete, we now proceed to build a profile Hidden Markov Model (pHMM) using the tool HMMER. We use the hmmbuild command from the HMMER suite to generate the pHMM from the aligned FASTA file. The resulting model will serve as a reference for detecting drug resistance mutations by aligning patient-derived sequences to this broader, more representative profile."
   ]
  },
  {
   "cell_type": "code",
   "execution_count": 34,
   "id": "b529c290",
   "metadata": {},
   "outputs": [
    {
     "name": "stdout",
     "output_type": "stream",
     "text": [
      "HMMER build successful.\n",
      "\n",
      "# hmmbuild :: profile HMM construction from multiple sequence alignments\n",
      "# HMMER 3.4 (Aug 2023); http://hmmer.org/\n",
      "# Copyright (C) 2023 Howard Hughes Medical Institute.\n",
      "# Freely distributed under the BSD open source license.\n",
      "# - - - - - - - - - - - - - - - - - - - - - - - - - - - - - - - - - - - -\n",
      "# input alignment file:             hiv1_groupM_gagpol_aligned.fasta\n",
      "# output HMM file:                  hiv1_gagpol.hmm\n",
      "# - - - - - - - - - - - - - - - - - - - - - - - - - - - - - - - - - - - -\n",
      "\n",
      "# idx name                  nseq  alen  mlen eff_nseq re/pos description\n",
      "#---- -------------------- ----- ----- ----- -------- ------ -----------\n",
      "1     hiv1_groupM_gagpol_aligned    36  1461  1431     0.65  0.589 \n",
      "\n",
      "# CPU time: 0.19u 0.00s 00:00:00.19 Elapsed: 00:00:00.19\n",
      "\n"
     ]
    }
   ],
   "source": [
    "# Input and output file paths\n",
    "aligned_fasta = \"hiv1_groupM_gagpol_aligned.fasta\"\n",
    "output_hmm = \"hiv1_gagpol.hmm\"\n",
    "\n",
    "# Command to run HMMER's hmmbuild\n",
    "command = [\"hmmbuild\", output_hmm, aligned_fasta]\n",
    "\n",
    "# Run the command and capture output\n",
    "try:\n",
    "    result = subprocess.run(command, check=True, capture_output=True, text=True)\n",
    "    print(\"HMMER build successful.\\n\")\n",
    "    print(result.stdout)  # Show summary output from hmmbuild\n",
    "except subprocess.CalledProcessError as e:\n",
    "    print(\"Error running hmmbuild:\")\n",
    "    print(e.stderr)"
   ]
  }
 ],
 "metadata": {
  "kernelspec": {
   "display_name": "base",
   "language": "python",
   "name": "python3"
  },
  "language_info": {
   "codemirror_mode": {
    "name": "ipython",
    "version": 3
   },
   "file_extension": ".py",
   "mimetype": "text/x-python",
   "name": "python",
   "nbconvert_exporter": "python",
   "pygments_lexer": "ipython3",
   "version": "3.12.2"
  }
 },
 "nbformat": 4,
 "nbformat_minor": 5
}
