{
 "cells": [
  {
   "cell_type": "markdown",
   "id": "24679136",
   "metadata": {},
   "source": [
    "# Hands-on Activity 6: Building a profile HMM of the HIV pol region\n",
    "\n",
    "CSC771M \n",
    "Members: Bawa, Roxas, Uy"
   ]
  },
  {
   "cell_type": "code",
   "execution_count": 33,
   "id": "df39626a",
   "metadata": {},
   "outputs": [],
   "source": [
    "# importing dependencies\n",
    "import requests\n",
    "import pandas as pd\n",
    "import io\n",
    "import time\n",
    "from time import sleep\n",
    "import subprocess\n",
    "from Bio import AlignIO\n",
    "from Bio import SeqIO\n",
    "from Bio.Seq import Seq\n",
    "from collections import Counter\n",
    "import matplotlib.pyplot as plt\n",
    "import numpy as np\n",
    "from collections import defaultdict\n",
    "import re\n"
   ]
  },
  {
   "cell_type": "markdown",
   "id": "54001e84",
   "metadata": {},
   "source": [
    "## Step 1: Collecting HIV-1 gag-pol Protein Sequences\n",
    "For the first step, we gathered the necessary input data which were the HIV-1 gag-pol polyprotein sequences. Rather than relying on a single reference genome (such as the previous Hands-On), which may not sufficiently represent the genetic diversity of HIV-1, we aim to build a more comprehensive model using sequences from multiple subtypes. We retrieved 30 reviewed (Swiss-Prot) gag-pol sequences from the UniProtKB database. These sequences will later be aligned and used to train a robust pHMM that can more effectively capture the variability of the pol region across different HIV strains."
   ]
  },
  {
   "cell_type": "code",
   "execution_count": 34,
   "id": "1d0760ac",
   "metadata": {},
   "outputs": [],
   "source": [
    "# Set up basic parameters\n",
    "BASE_URL = \"https://rest.uniprot.org/uniprotkb/search\"\n",
    "HEADERS = {\n",
    "    'User-Agent': 'Mozilla/5.0 (compatible; bioinformatics-student/1.0)'\n",
    "}"
   ]
  },
  {
   "cell_type": "code",
   "execution_count": 35,
   "id": "d1d41fda",
   "metadata": {},
   "outputs": [],
   "source": [
    "# Define query functions\n",
    "def search_uniprot(query, format_type=\"fasta\", limit=500):\n",
    "    params = {\n",
    "        'query': query,\n",
    "        'format': format_type,\n",
    "        'size': limit\n",
    "    }\n",
    "    \n",
    "    try:\n",
    "        response = requests.get(BASE_URL, params=params, headers=HEADERS)\n",
    "        response.raise_for_status()\n",
    "        \n",
    "        if format_type == \"fasta\":\n",
    "            return response.text\n",
    "        elif format_type == \"tsv\":\n",
    "            return pd.read_csv(io.StringIO(response.text), sep='\\t')\n",
    "        else:\n",
    "            return response.json()\n",
    "            \n",
    "    except requests.RequestException as e:\n",
    "        print(f\"Error fetching data: {e}\")\n",
    "        return None\n",
    "\n",
    "def get_fasta(accession):\n",
    "    url = f\"https://rest.uniprot.org/uniprotkb/{accession}.fasta\"\n",
    "    \n",
    "    try:\n",
    "        response = requests.get(url)\n",
    "        response.raise_for_status()\n",
    "        return response.text\n",
    "    except requests.RequestException as e:\n",
    "        print(f\"Error fetching FASTA for {accession}: {e}\")\n",
    "        return None"
   ]
  },
  {
   "cell_type": "code",
   "execution_count": 36,
   "id": "f09734fc",
   "metadata": {},
   "outputs": [
    {
     "name": "stdout",
     "output_type": "stream",
     "text": [
      "Searching UniProt for HIV gag-pol sequences...\n",
      "Query: taxonomy_id:11676 AND (gag-pol OR \"gag pol\") AND reviewed:true \n",
      "\n",
      "Found 79 potential sequences\n",
      "\n",
      "Columns available: ['Entry', 'Entry Name', 'Reviewed', 'Protein names', 'Gene Names', 'Organism', 'Length']\n",
      "\n",
      "First few entries:\n"
     ]
    },
    {
     "data": {
      "application/vnd.microsoft.datawrangler.viewer.v0+json": {
       "columns": [
        {
         "name": "index",
         "rawType": "int64",
         "type": "integer"
        },
        {
         "name": "Entry",
         "rawType": "object",
         "type": "string"
        },
        {
         "name": "Entry Name",
         "rawType": "object",
         "type": "string"
        },
        {
         "name": "Reviewed",
         "rawType": "object",
         "type": "string"
        },
        {
         "name": "Protein names",
         "rawType": "object",
         "type": "string"
        },
        {
         "name": "Gene Names",
         "rawType": "object",
         "type": "string"
        },
        {
         "name": "Organism",
         "rawType": "object",
         "type": "string"
        },
        {
         "name": "Length",
         "rawType": "int64",
         "type": "integer"
        }
       ],
       "ref": "cce5ec4e-5a14-459c-8cbe-ba2b565473d3",
       "rows": [
        [
         "0",
         "P12498",
         "POL_HV1J3",
         "reviewed",
         "Gag-Pol polyprotein (Pr160Gag-Pol) [Cleaved into: Matrix protein p17 (MA); Capsid protein p24 (CA); Spacer peptide 1 (SP1) (p2); Nucleocapsid protein p7 (NC); Transframe peptide (TF); p6-pol (p6*); Protease (EC 3.4.23.16) (PR) (Retropepsin)]",
         "gag-pol",
         "Human immunodeficiency virus type 1 group M subtype B (isolate JH32) (HIV-1)",
         "532"
        ],
        [
         "1",
         "P05960",
         "POL_HV1C4",
         "reviewed",
         "Gag-Pol polyprotein (Pr160Gag-Pol) [Cleaved into: Matrix protein p17 (MA); Capsid protein p24 (CA); Spacer peptide 1 (SP1) (p2); Nucleocapsid protein p7 (NC); Transframe peptide (TF); p6-pol (p6*); Protease (EC 3.4.23.16) (PR) (Retropepsin)]",
         "gag-pol",
         "Human immunodeficiency virus type 1 group M subtype B (isolate CDC-451) (HIV-1)",
         "550"
        ],
        [
         "2",
         "P18802",
         "POL_HV1ND",
         "reviewed",
         "Gag-Pol polyprotein (Pr160Gag-Pol) [Cleaved into: Matrix protein p17 (MA); Capsid protein p24 (CA); Spacer peptide 1 (SP1) (p2); Nucleocapsid protein p7 (NC); Transframe peptide (TF); p6-pol (p6*); Protease (EC 3.4.23.16) (PR) (Retropepsin); Reverse transcriptase/ribonuclease H (EC 2.7.7.49) (EC 2.7.7.7) (EC 3.1.26.13) (Exoribonuclease H) (EC 3.1.13.2) (p66 RT); p51 RT; p15; Integrase (IN) (EC 2.7.7.-) (EC 3.1.-.-)]",
         "gag-pol",
         "Human immunodeficiency virus type 1 group M subtype D (isolate NDK) (HIV-1)",
         "1432"
        ],
        [
         "3",
         "P03367",
         "POL_HV1BR",
         "reviewed",
         "Gag-Pol polyprotein (Pr160Gag-Pol) [Cleaved into: Matrix protein p17 (MA); Capsid protein p24 (CA); Spacer peptide 1 (SP1) (p2); Nucleocapsid protein p7 (NC); Transframe peptide (TF); p6-pol (p6*); Protease (EC 3.4.23.16) (PR) (Retropepsin); Reverse transcriptase/ribonuclease H (EC 2.7.7.49) (EC 2.7.7.7) (EC 3.1.26.13) (Exoribonuclease H) (EC 3.1.13.2) (p66 RT); p51 RT; p15; Integrase (IN) (EC 2.7.7.-) (EC 3.1.-.-)]",
         "gag-pol",
         "Human immunodeficiency virus type 1 group M subtype B (isolate BRU/LAI) (HIV-1)",
         "1447"
        ],
        [
         "4",
         "O12158",
         "POL_HV192",
         "reviewed",
         "Gag-Pol polyprotein (Pr160Gag-Pol) [Cleaved into: Matrix protein p17 (MA); Capsid protein p24 (CA); Spacer peptide 1 (SP1) (p2); Nucleocapsid protein p7 (NC); Transframe peptide (TF); p6-pol (p6*); Protease (EC 3.4.23.16) (PR) (Retropepsin); Reverse transcriptase/ribonuclease H (EC 2.7.7.49) (EC 2.7.7.7) (EC 3.1.26.13) (Exoribonuclease H) (EC 3.1.13.2) (p66 RT); p51 RT; p15; Integrase (IN) (EC 2.7.7.-) (EC 3.1.-.-)]",
         "gag-pol",
         "Human immunodeficiency virus type 1 group M subtype C (isolate 92BR025) (HIV-1)",
         "1431"
        ]
       ],
       "shape": {
        "columns": 7,
        "rows": 5
       }
      },
      "text/html": [
       "<div>\n",
       "<style scoped>\n",
       "    .dataframe tbody tr th:only-of-type {\n",
       "        vertical-align: middle;\n",
       "    }\n",
       "\n",
       "    .dataframe tbody tr th {\n",
       "        vertical-align: top;\n",
       "    }\n",
       "\n",
       "    .dataframe thead th {\n",
       "        text-align: right;\n",
       "    }\n",
       "</style>\n",
       "<table border=\"1\" class=\"dataframe\">\n",
       "  <thead>\n",
       "    <tr style=\"text-align: right;\">\n",
       "      <th></th>\n",
       "      <th>Entry</th>\n",
       "      <th>Entry Name</th>\n",
       "      <th>Reviewed</th>\n",
       "      <th>Protein names</th>\n",
       "      <th>Gene Names</th>\n",
       "      <th>Organism</th>\n",
       "      <th>Length</th>\n",
       "    </tr>\n",
       "  </thead>\n",
       "  <tbody>\n",
       "    <tr>\n",
       "      <th>0</th>\n",
       "      <td>P12498</td>\n",
       "      <td>POL_HV1J3</td>\n",
       "      <td>reviewed</td>\n",
       "      <td>Gag-Pol polyprotein (Pr160Gag-Pol) [Cleaved in...</td>\n",
       "      <td>gag-pol</td>\n",
       "      <td>Human immunodeficiency virus type 1 group M su...</td>\n",
       "      <td>532</td>\n",
       "    </tr>\n",
       "    <tr>\n",
       "      <th>1</th>\n",
       "      <td>P05960</td>\n",
       "      <td>POL_HV1C4</td>\n",
       "      <td>reviewed</td>\n",
       "      <td>Gag-Pol polyprotein (Pr160Gag-Pol) [Cleaved in...</td>\n",
       "      <td>gag-pol</td>\n",
       "      <td>Human immunodeficiency virus type 1 group M su...</td>\n",
       "      <td>550</td>\n",
       "    </tr>\n",
       "    <tr>\n",
       "      <th>2</th>\n",
       "      <td>P18802</td>\n",
       "      <td>POL_HV1ND</td>\n",
       "      <td>reviewed</td>\n",
       "      <td>Gag-Pol polyprotein (Pr160Gag-Pol) [Cleaved in...</td>\n",
       "      <td>gag-pol</td>\n",
       "      <td>Human immunodeficiency virus type 1 group M su...</td>\n",
       "      <td>1432</td>\n",
       "    </tr>\n",
       "    <tr>\n",
       "      <th>3</th>\n",
       "      <td>P03367</td>\n",
       "      <td>POL_HV1BR</td>\n",
       "      <td>reviewed</td>\n",
       "      <td>Gag-Pol polyprotein (Pr160Gag-Pol) [Cleaved in...</td>\n",
       "      <td>gag-pol</td>\n",
       "      <td>Human immunodeficiency virus type 1 group M su...</td>\n",
       "      <td>1447</td>\n",
       "    </tr>\n",
       "    <tr>\n",
       "      <th>4</th>\n",
       "      <td>O12158</td>\n",
       "      <td>POL_HV192</td>\n",
       "      <td>reviewed</td>\n",
       "      <td>Gag-Pol polyprotein (Pr160Gag-Pol) [Cleaved in...</td>\n",
       "      <td>gag-pol</td>\n",
       "      <td>Human immunodeficiency virus type 1 group M su...</td>\n",
       "      <td>1431</td>\n",
       "    </tr>\n",
       "  </tbody>\n",
       "</table>\n",
       "</div>"
      ],
      "text/plain": [
       "    Entry Entry Name  Reviewed  \\\n",
       "0  P12498  POL_HV1J3  reviewed   \n",
       "1  P05960  POL_HV1C4  reviewed   \n",
       "2  P18802  POL_HV1ND  reviewed   \n",
       "3  P03367  POL_HV1BR  reviewed   \n",
       "4  O12158  POL_HV192  reviewed   \n",
       "\n",
       "                                       Protein names Gene Names  \\\n",
       "0  Gag-Pol polyprotein (Pr160Gag-Pol) [Cleaved in...    gag-pol   \n",
       "1  Gag-Pol polyprotein (Pr160Gag-Pol) [Cleaved in...    gag-pol   \n",
       "2  Gag-Pol polyprotein (Pr160Gag-Pol) [Cleaved in...    gag-pol   \n",
       "3  Gag-Pol polyprotein (Pr160Gag-Pol) [Cleaved in...    gag-pol   \n",
       "4  Gag-Pol polyprotein (Pr160Gag-Pol) [Cleaved in...    gag-pol   \n",
       "\n",
       "                                            Organism  Length  \n",
       "0  Human immunodeficiency virus type 1 group M su...     532  \n",
       "1  Human immunodeficiency virus type 1 group M su...     550  \n",
       "2  Human immunodeficiency virus type 1 group M su...    1432  \n",
       "3  Human immunodeficiency virus type 1 group M su...    1447  \n",
       "4  Human immunodeficiency virus type 1 group M su...    1431  "
      ]
     },
     "metadata": {},
     "output_type": "display_data"
    }
   ],
   "source": [
    "hiv_query = (\n",
    "    'taxonomy_id:11676 '\n",
    "    'AND (gag-pol OR \"gag pol\") '\n",
    "    'AND reviewed:true '\n",
    ")\n",
    "\n",
    "print(\"Searching UniProt for HIV gag-pol sequences...\")\n",
    "print(f\"Query: {hiv_query}\")\n",
    "\n",
    "metadata_query = hiv_query\n",
    "metadata = search_uniprot(metadata_query, format_type=\"tsv\", limit=100)\n",
    "\n",
    "if metadata is not None:\n",
    "    print(f\"\\nFound {len(metadata)} potential sequences\")\n",
    "    print(\"\\nColumns available:\", list(metadata.columns))\n",
    "    print(\"\\nFirst few entries:\")\n",
    "    display(metadata.head())\n",
    "else:\n",
    "    print(\"No results found with the current query\")"
   ]
  },
  {
   "cell_type": "markdown",
   "id": "f77fd2d4",
   "metadata": {},
   "source": [
    "Here we can see that we found 79 potential sequences from our query search. To build a diverse and representative profile HMM, we want gag-pol sequences from different subtypes of HIV-1. So for this project, we'll choose 2-3 sequences from each subtype."
   ]
  },
  {
   "cell_type": "code",
   "execution_count": 37,
   "id": "376e80f0",
   "metadata": {},
   "outputs": [
    {
     "name": "stdout",
     "output_type": "stream",
     "text": [
      "Organism\n",
      "Human immunodeficiency virus type 1 group O (isolate MVP5180) (HIV-1)                  2\n",
      "Human immunodeficiency virus type 1 group M subtype G (isolate 92NG083) (HIV-1)        2\n",
      "Human immunodeficiency virus type 1 group N (isolate YBF30) (HIV-1)                    2\n",
      "Human immunodeficiency virus type 1 group M subtype C (isolate 92BR025) (HIV-1)        2\n",
      "Human immunodeficiency virus type 1 group M subtype K (isolate 96CM-MP535) (HIV-1)     2\n",
      "Human immunodeficiency virus type 1 group M subtype J (isolate SE9280) (HIV-1)         2\n",
      "Human immunodeficiency virus type 1 group M subtype H (isolate 90CF056) (HIV-1)        2\n",
      "Human immunodeficiency virus type 1 group M subtype A (isolate U455) (HIV-1)           2\n",
      "Human immunodeficiency virus type 1 group O (isolate ANT70) (HIV-1)                    1\n",
      "Human immunodeficiency virus type 1 group N (isolate YBF106) (HIV-1)                   1\n",
      "Human immunodeficiency virus type 1 group M subtype K (isolate 97ZR-EQTB11) (HIV-1)    1\n",
      "Human immunodeficiency virus type 1 group M subtype J (isolate SE9173) (HIV-1)         1\n",
      "Human immunodeficiency virus type 1 group M subtype H (isolate VI991) (HIV-1)          1\n",
      "Human immunodeficiency virus type 1 group M subtype A (isolate MAL) (HIV-1)            1\n",
      "Human immunodeficiency virus type 1 group M subtype G (isolate SE6165) (HIV-1)         1\n",
      "Human immunodeficiency virus type 1 group M subtype F1 (isolate 93BR020) (HIV-1)       1\n",
      "Human immunodeficiency virus type 1 group M subtype F2 (isolate MP255) (HIV-1)         1\n",
      "Human immunodeficiency virus type 1 group M subtype D (isolate Z6) (HIV-1)             1\n",
      "Human immunodeficiency virus type 1 group M subtype D (isolate ELI) (HIV-1)            1\n",
      "Human immunodeficiency virus type 1 group M subtype D (isolate NDK) (HIV-1)            1\n",
      "Human immunodeficiency virus type 1 group M subtype C (isolate ETH2220) (HIV-1)        1\n",
      "Human immunodeficiency virus type 1 group M subtype B (isolate BRU/LAI) (HIV-1)        1\n",
      "Human immunodeficiency virus type 1 group M subtype B (isolate CDC-451) (HIV-1)        1\n",
      "Human immunodeficiency virus type 1 group M subtype B (isolate JH32) (HIV-1)           1\n",
      "Human immunodeficiency virus type 1 group M subtype F2 (isolate MP257) (HIV-1)         1\n",
      "Name: count, dtype: int64\n",
      "\n",
      "Total number of sequences found: 33\n"
     ]
    }
   ],
   "source": [
    "subtypes = ['subtype A', 'subtype B', 'subtype C', 'subtype D', 'subtype F', \n",
    "            'subtype G', 'subtype H', 'subtype J', 'subtype K', 'group N', 'group O']\n",
    "\n",
    "filtered_metadata = pd.DataFrame(columns=metadata.columns)\n",
    "\n",
    "# Loop over subtypes and append up to 3 matches from each\n",
    "for subtype in subtypes:\n",
    "    matches = metadata[metadata['Organism'].str.contains(subtype, case=False, na=False)]\n",
    "    filtered_metadata = pd.concat([filtered_metadata, matches.head(3)], ignore_index=True)\n",
    "\n",
    "if filtered_metadata is not None:\n",
    "    pd.set_option('display.max_colwidth', None)\n",
    "    print(filtered_metadata['Organism'].value_counts())\n",
    "    pd.reset_option('display.max_colwidth')\n",
    "else:\n",
    "    print(\"No results found with the current query\")\n",
    "\n",
    "# Count total number of sequences\n",
    "total_sequences = len(filtered_metadata)\n",
    "print(f\"\\nTotal number of sequences found: {total_sequences}\")"
   ]
  },
  {
   "cell_type": "code",
   "execution_count": null,
   "id": "b90dfd5f",
   "metadata": {},
   "outputs": [],
   "source": [
    "fasta_sequences = []\n",
    "\n",
    "for acc in filtered_metadata['Entry']:\n",
    "    fasta = get_fasta(acc)\n",
    "    if fasta:\n",
    "        fasta_sequences.append(fasta)\n",
    "    time.sleep(1)\n",
    "\n",
    "with open(\"hiv1_groupM_gagpol.fasta\", \"w\") as f:\n",
    "    f.write('\\n'.join(fasta_sequences))\n",
    "\n",
    "print(f\"Saved {len(fasta_sequences)} sequences to hiv1_groupM_gagpol.fasta\")"
   ]
  },
  {
   "cell_type": "markdown",
   "id": "f7c346d3",
   "metadata": {},
   "source": [
    "## Step 2: Multiple Sequence Alignment of gag-pol Sequences\n",
    "With our curated dataset of HIV-1 group M gag-pol polyproteins in hand, we now proceed to align the sequences using MAFFT, a widely used tool for multiple sequence alignment (MSA). This step is crucial for identifying conserved and variable regions across the different HIV subtypes. By aligning these sequences, we create a structured representation of homologous positions, which serves as the foundation for building a profile Hidden Markov Model (pHMM). The output of this step is an aligned FASTA file containing all sequences in a consistent frame, ready for conversion into a statistical model using HMMER. For our case, we opted to rely on its ```--auto``` mode which intelligently selects the appropriate algorithm based on the input size and complexity. "
   ]
  },
  {
   "cell_type": "code",
   "execution_count": 38,
   "id": "69b94644",
   "metadata": {},
   "outputs": [
    {
     "name": "stderr",
     "output_type": "stream",
     "text": [
      "outputhat23=16\n",
      "treein = 0\n",
      "compacttree = 0\n",
      "stacksize: 8176 kb\n",
      "rescale = 1\n",
      "All-to-all alignment.\n",
      "tbfast-pair (aa) Version 7.526\n",
      "alg=L, model=BLOSUM62, 2.00, -0.10, +0.10, noshift, amax=0.0\n",
      "0 thread(s)\n",
      "\n",
      "outputhat23=16\n",
      "Loading 'hat3.seed' ... \n",
      "done.\n",
      "Writing hat3 for iterative refinement\n",
      "rescale = 1\n",
      "Gap Penalty = -1.53, +0.00, +0.00\n",
      "tbutree = 1, compacttree = 0\n",
      "Constructing a UPGMA tree ... \n",
      "   30 / 33\n",
      "done.\n",
      "\n",
      "Progressive alignment ... \n",
      "STEP    19 /32 \n",
      "Reallocating..done. *alloclen = 3904\n",
      "STEP    32 /32 \n",
      "done.\n",
      "tbfast (aa) Version 7.526\n",
      "alg=A, model=BLOSUM62, 1.53, -0.00, -0.00, noshift, amax=0.0\n",
      "1 thread(s)\n",
      "\n",
      "minimumweight = 0.000010\n",
      "autosubalignment = 0.000000\n",
      "nthread = 0\n",
      "randomseed = 0\n",
      "blosum 62 / kimura 200\n",
      "poffset = 0\n",
      "niter = 16\n",
      "sueff_global = 0.100000\n",
      "nadd = 16\n",
      "Loading 'hat3' ... done.\n",
      "rescale = 1\n",
      "\n",
      "   30 / 33\n",
      "Segment   1/  1    1-1498\n",
      "STEP 004-003-1  identical.    identical.    identical.    identical.   \n",
      "Converged.\n",
      "\n",
      "done\n",
      "dvtditr (aa) Version 7.526\n",
      "alg=A, model=BLOSUM62, 1.53, -0.00, -0.00, noshift, amax=0.0\n",
      "0 thread(s)\n",
      "\n",
      "\n",
      "Strategy:\n",
      " L-INS-i (Probably most accurate, very slow)\n",
      " Iterative refinement method (<16) with LOCAL pairwise alignment information\n",
      "\n",
      "If unsure which option to use, try 'mafft --auto input > output'.\n",
      "For more information, see 'mafft --help', 'mafft --man' and the mafft page.\n",
      "\n",
      "The default gap scoring scheme has been changed in version 7.110 (2013 Oct).\n",
      "It tends to insert more gaps into gap-rich regions than previous versions.\n",
      "To disable this change, add the --leavegappyregion option.\n",
      "\n"
     ]
    },
    {
     "name": "stdout",
     "output_type": "stream",
     "text": [
      "Alignment saved to hiv1_groupM_gagpol_aligned.fasta\n"
     ]
    }
   ],
   "source": [
    "\n",
    "input_fasta = \"hiv1_groupM_gagpol.fasta\"\n",
    "output_fasta = \"hiv1_groupM_gagpol_aligned.fasta\"\n",
    "\n",
    "command = [\"mafft\", \"--auto\", input_fasta]\n",
    "\n",
    "with open(output_fasta, \"w\") as out_f:\n",
    "    subprocess.run(command, stdout=out_f)\n",
    "\n",
    "print(f\"Alignment saved to {output_fasta}\")"
   ]
  },
  {
   "cell_type": "code",
   "execution_count": 39,
   "id": "8475b535",
   "metadata": {},
   "outputs": [
    {
     "data": {
      "text/plain": [
       "1"
      ]
     },
     "execution_count": 39,
     "metadata": {},
     "output_type": "execute_result"
    }
   ],
   "source": [
    "# Convert the aligned FASTA file to Stockholm format for later steps\n",
    "AlignIO.convert(\"hiv1_groupM_gagpol_aligned.fasta\", \"fasta\", \"hiv1_groupM_gagpol_aligned.sto\", \"stockholm\")"
   ]
  },
  {
   "cell_type": "code",
   "execution_count": 40,
   "id": "e39ff390",
   "metadata": {},
   "outputs": [
    {
     "data": {
      "image/png": "[encoded data removed]",
      "text/plain": [
       "<Figure size 1400x300 with 1 Axes>"
      ]
     },
     "metadata": {},
     "output_type": "display_data"
    }
   ],
   "source": [
    "# Load the aligned STO file\n",
    "alignment = AlignIO.read(\"hiv1_groupM_gagpol_aligned.sto\", \"stockholm\")\n",
    "\n",
    "# Calculate conservation score at each position\n",
    "conservation_scores = []\n",
    "\n",
    "for i in range(alignment.get_alignment_length()):\n",
    "    column = alignment[:, i]  # Get all residues at position i\n",
    "    counts = Counter(column)\n",
    "    most_common_residue, freq = counts.most_common(1)[0]\n",
    "    conservation_scores.append(freq / len(alignment))  # Normalize by number of sequences\n",
    "\n",
    "# Plotting\n",
    "plt.figure(figsize=(14, 3))\n",
    "plt.plot(conservation_scores, color='darkblue', linewidth=0.8)\n",
    "plt.title(\"Residue Conservation Across HIV-1 gag-pol MSA\", fontsize=14)\n",
    "plt.xlabel(\"Alignment Position\", fontsize=12)\n",
    "plt.ylabel(\"Conservation Score\", fontsize=12)\n",
    "plt.ylim(0, 1.05)\n",
    "plt.grid(True, linestyle='--', alpha=0.5)\n",
    "plt.tight_layout()\n",
    "plt.show()"
   ]
  },
  {
   "cell_type": "markdown",
   "id": "2af28cb0",
   "metadata": {},
   "source": [
    "The plot above shows the residue conservation score at each position of the multiple sequence alignment. A residue conservation score measures how similar the amino acids are at each aligned position across all sequences. A score of 1.0 means that every sequence has the same amino acid at that position (fully conserved), while lower scores mean there is more variation among the sequences. In this specific scenario for HIV-1 gag-pol polyprotein, positions with low conservation often show where mutations happen more frequently between different virus strains. These variable regions may be linked to how the virus adapts or becomes resistant to treatment. These conserved patterns will help guide the construction of a reliable profile Hidden Markov Model in the next step."
   ]
  },
  {
   "cell_type": "markdown",
   "id": "02996681",
   "metadata": {},
   "source": [
    "## Step 3: Building a Profile HMM Using HMMER\n",
    "With our multiple sequence alignment of HIV-1 gag-pol polyproteins complete, we now proceed to build a profile Hidden Markov Model (pHMM) using the tool HMMER. We use the hmmbuild command from the HMMER suite to generate the pHMM from the aligned STO file. The resulting model will serve as a reference for detecting drug resistance mutations by aligning patient-derived sequences to this broader, more representative profile."
   ]
  },
  {
   "cell_type": "code",
   "execution_count": 41,
   "id": "b529c290",
   "metadata": {},
   "outputs": [
    {
     "name": "stdout",
     "output_type": "stream",
     "text": [
      "HMMER build successful.\n",
      "\n",
      "# hmmbuild :: profile HMM construction from multiple sequence alignments\n",
      "# HMMER 3.4 (Aug 2023); http://hmmer.org/\n",
      "# Copyright (C) 2023 Howard Hughes Medical Institute.\n",
      "# Freely distributed under the BSD open source license.\n",
      "# - - - - - - - - - - - - - - - - - - - - - - - - - - - - - - - - - - - -\n",
      "# input alignment file:             hiv1_groupM_gagpol_aligned.sto\n",
      "# output HMM file:                  hiv1_gagpol.hmm\n",
      "# - - - - - - - - - - - - - - - - - - - - - - - - - - - - - - - - - - - -\n",
      "\n",
      "# idx name                  nseq  alen  mlen eff_nseq re/pos description\n",
      "#---- -------------------- ----- ----- ----- -------- ------ -----------\n",
      "1     hiv1_groupM_gagpol_aligned    33  1492  1435     0.57  0.588 \n",
      "\n",
      "# CPU time: 0.20u 0.00s 00:00:00.20 Elapsed: 00:00:00.20\n",
      "\n"
     ]
    }
   ],
   "source": [
    "# Input and output file paths\n",
    "aligned_sto = \"hiv1_groupM_gagpol_aligned.sto\"\n",
    "output_hmm = \"hiv1_gagpol.hmm\"\n",
    "\n",
    "# Command to run HMMER's hmmbuild\n",
    "command = [\"hmmbuild\", output_hmm, aligned_sto]\n",
    "\n",
    "# Run the command and capture output\n",
    "try:\n",
    "    result = subprocess.run(command, check=True, capture_output=True, text=True)\n",
    "    print(\"HMMER build successful.\\n\")\n",
    "    print(result.stdout)  # Show summary output from hmmbuild\n",
    "except subprocess.CalledProcessError as e:\n",
    "    print(\"Error running hmmbuild:\")\n",
    "    print(e.stderr)"
   ]
  },
  {
   "cell_type": "markdown",
   "id": "033ac2da",
   "metadata": {},
   "source": [
    "### Step 4: Aligning Translated Patient Reads to the Profile HMM\n",
    "In this step, we aligned the patient-derived sequencing reads to the previously constructed profile Hidden Markov Model (pHMM) using hmmsearch, which is part of the HMMER tool. Since the pHMM is based on a protein sequence, we first translated the DNA reads into protein sequences in all six possible reading frames using a tool called EMBOSS with its transeq feature. This ensures we capture any potential coding signal, regardless of strand or frame.\n",
    "\n",
    "We then used hmmsearch to compare these translated reads against the pHMM, allowing us to identify fragments of patient reads that match conserved protein domains within the HIV-1 gag-pol region. This step is crucial for detecting biologically relevant matches and will help in downstream analyses such as variant detection or alignment visualization."
   ]
  },
  {
   "cell_type": "code",
   "execution_count": 42,
   "id": "ed140063",
   "metadata": {},
   "outputs": [
    {
     "name": "stderr",
     "output_type": "stream",
     "text": [
      "Translate nucleic acid sequences\n"
     ]
    },
    {
     "data": {
      "text/plain": [
       "CompletedProcess(args=['transeq', '-sequence', 'SRR4071764.fasta', '-outseq', 'SRR4071764_aa.fasta', '-frame', '6'], returncode=0)"
      ]
     },
     "execution_count": 42,
     "metadata": {},
     "output_type": "execute_result"
    }
   ],
   "source": [
    "# Use EMBOSS transeq to translate the nucleotide sequence to protein\n",
    "SeqIO.convert(\"SRR4071764.fastq\", \"fastq\", \"SRR4071764.fasta\", \"fasta\")\n",
    "subprocess.run([\"transeq\", \"-sequence\", \"SRR4071764.fasta\", \"-outseq\", \"SRR4071764_aa.fasta\", \"-frame\", \"6\"])"
   ]
  },
  {
   "cell_type": "code",
   "execution_count": 43,
   "id": "8b6246d5",
   "metadata": {},
   "outputs": [
    {
     "name": "stdout",
     "output_type": "stream",
     "text": [
      "hmmsearch completed successfully.\n"
     ]
    }
   ],
   "source": [
    "# Input and output file paths\n",
    "hmm_model = \"hiv1_gagpol.hmm\"\n",
    "translated_reads = \"SRR4071764_aa.fasta\"\n",
    "domtblout = \"hmmsearch_results.domtbl\"\n",
    "txtout = \"hmmsearch_results.txt\"\n",
    "\n",
    "# Run hmmsearch\n",
    "command = [\n",
    "    \"hmmsearch\",\n",
    "    \"--domtblout\", domtblout,\n",
    "    \"-o\", txtout,\n",
    "    hmm_model,\n",
    "    translated_reads\n",
    "]\n",
    "\n",
    "try:\n",
    "    subprocess.run(command, check=True)\n",
    "    print(\"hmmsearch completed successfully.\")\n",
    "except subprocess.CalledProcessError as e:\n",
    "    print(\"hmmsearch failed:\", e.stderr)"
   ]
  },
  {
   "cell_type": "code",
   "execution_count": 44,
   "id": "7500d11a",
   "metadata": {},
   "outputs": [
    {
     "data": {
      "application/vnd.microsoft.datawrangler.viewer.v0+json": {
       "columns": [
        {
         "name": "index",
         "rawType": "int64",
         "type": "integer"
        },
        {
         "name": "target_name",
         "rawType": "object",
         "type": "string"
        },
        {
         "name": "target_accession",
         "rawType": "object",
         "type": "string"
        },
        {
         "name": "tlen",
         "rawType": "object",
         "type": "string"
        },
        {
         "name": "query_name",
         "rawType": "object",
         "type": "string"
        },
        {
         "name": "query_accession",
         "rawType": "object",
         "type": "string"
        },
        {
         "name": "qlen",
         "rawType": "object",
         "type": "string"
        },
        {
         "name": "E_value",
         "rawType": "float64",
         "type": "float"
        },
        {
         "name": "score",
         "rawType": "float64",
         "type": "float"
        },
        {
         "name": "bias",
         "rawType": "object",
         "type": "string"
        },
        {
         "name": "domain_num",
         "rawType": "object",
         "type": "string"
        },
        {
         "name": "domain_total",
         "rawType": "object",
         "type": "string"
        },
        {
         "name": "c_Evalue",
         "rawType": "object",
         "type": "string"
        },
        {
         "name": "i_Evalue",
         "rawType": "object",
         "type": "string"
        },
        {
         "name": "domain_score",
         "rawType": "object",
         "type": "string"
        },
        {
         "name": "domain_bias",
         "rawType": "object",
         "type": "string"
        },
        {
         "name": "hmm_from",
         "rawType": "object",
         "type": "string"
        },
        {
         "name": "hmm_to",
         "rawType": "object",
         "type": "string"
        },
        {
         "name": "ali_from",
         "rawType": "int64",
         "type": "integer"
        },
        {
         "name": "ali_to",
         "rawType": "int64",
         "type": "integer"
        },
        {
         "name": "env_from",
         "rawType": "object",
         "type": "string"
        },
        {
         "name": "env_to",
         "rawType": "object",
         "type": "string"
        },
        {
         "name": "accuracy",
         "rawType": "object",
         "type": "string"
        },
        {
         "name": "description_of_target",
         "rawType": "object",
         "type": "string"
        }
       ],
       "ref": "57c40dc6-a12c-47fc-9988-954189caa069",
       "rows": [
        [
         "0",
         "SRR4071764.696_1",
         "-",
         "84",
         "hiv1_groupM_gagpol_aligned",
         "-",
         "1435",
         "2.3e-53",
         "181.4",
         "0.1",
         "1",
         "1",
         "4.2e-54",
         "2.5e-53",
         "181.3",
         "0.1",
         "661",
         "744",
         "1",
         "84",
         "1",
         "84",
         "0.99",
         "696 length=251"
        ],
        [
         "1",
         "SRR4071764.445_6",
         "-",
         "84",
         "hiv1_groupM_gagpol_aligned",
         "-",
         "1435",
         "2.5e-53",
         "181.3",
         "0.1",
         "1",
         "1",
         "4.5e-54",
         "2.7e-53",
         "181.2",
         "0.1",
         "662",
         "745",
         "1",
         "84",
         "1",
         "84",
         "0.99",
         "445 length=251"
        ],
        [
         "2",
         "SRR4071764.1478_2",
         "-",
         "84",
         "hiv1_groupM_gagpol_aligned",
         "-",
         "1435",
         "3.2e-53",
         "181.0",
         "0.1",
         "1",
         "1",
         "5.7e-54",
         "3.5e-53",
         "180.8",
         "0.1",
         "658",
         "740",
         "1",
         "83",
         "1",
         "84",
         "0.99",
         "1478 length=251"
        ],
        [
         "3",
         "SRR4071764.1074_1",
         "-",
         "84",
         "hiv1_groupM_gagpol_aligned",
         "-",
         "1435",
         "5.1e-53",
         "180.3",
         "0.1",
         "1",
         "1",
         "9.1e-54",
         "5.6e-53",
         "180.1",
         "0.1",
         "656",
         "739",
         "1",
         "84",
         "1",
         "84",
         "0.99",
         "1074 length=251"
        ],
        [
         "4",
         "SRR4071764.1004_6",
         "-",
         "84",
         "hiv1_groupM_gagpol_aligned",
         "-",
         "1435",
         "8.2e-53",
         "179.6",
         "0.1",
         "1",
         "1",
         "1.5e-53",
         "9e-53",
         "179.5",
         "0.1",
         "663",
         "745",
         "1",
         "83",
         "1",
         "84",
         "0.99",
         "1004 length=251"
        ]
       ],
       "shape": {
        "columns": 23,
        "rows": 5
       }
      },
      "text/html": [
       "<div>\n",
       "<style scoped>\n",
       "    .dataframe tbody tr th:only-of-type {\n",
       "        vertical-align: middle;\n",
       "    }\n",
       "\n",
       "    .dataframe tbody tr th {\n",
       "        vertical-align: top;\n",
       "    }\n",
       "\n",
       "    .dataframe thead th {\n",
       "        text-align: right;\n",
       "    }\n",
       "</style>\n",
       "<table border=\"1\" class=\"dataframe\">\n",
       "  <thead>\n",
       "    <tr style=\"text-align: right;\">\n",
       "      <th></th>\n",
       "      <th>target_name</th>\n",
       "      <th>target_accession</th>\n",
       "      <th>tlen</th>\n",
       "      <th>query_name</th>\n",
       "      <th>query_accession</th>\n",
       "      <th>qlen</th>\n",
       "      <th>E_value</th>\n",
       "      <th>score</th>\n",
       "      <th>bias</th>\n",
       "      <th>domain_num</th>\n",
       "      <th>...</th>\n",
       "      <th>domain_score</th>\n",
       "      <th>domain_bias</th>\n",
       "      <th>hmm_from</th>\n",
       "      <th>hmm_to</th>\n",
       "      <th>ali_from</th>\n",
       "      <th>ali_to</th>\n",
       "      <th>env_from</th>\n",
       "      <th>env_to</th>\n",
       "      <th>accuracy</th>\n",
       "      <th>description_of_target</th>\n",
       "    </tr>\n",
       "  </thead>\n",
       "  <tbody>\n",
       "    <tr>\n",
       "      <th>0</th>\n",
       "      <td>SRR4071764.696_1</td>\n",
       "      <td>-</td>\n",
       "      <td>84</td>\n",
       "      <td>hiv1_groupM_gagpol_aligned</td>\n",
       "      <td>-</td>\n",
       "      <td>1435</td>\n",
       "      <td>2.300000e-53</td>\n",
       "      <td>181.4</td>\n",
       "      <td>0.1</td>\n",
       "      <td>1</td>\n",
       "      <td>...</td>\n",
       "      <td>181.3</td>\n",
       "      <td>0.1</td>\n",
       "      <td>661</td>\n",
       "      <td>744</td>\n",
       "      <td>1</td>\n",
       "      <td>84</td>\n",
       "      <td>1</td>\n",
       "      <td>84</td>\n",
       "      <td>0.99</td>\n",
       "      <td>696 length=251</td>\n",
       "    </tr>\n",
       "    <tr>\n",
       "      <th>1</th>\n",
       "      <td>SRR4071764.445_6</td>\n",
       "      <td>-</td>\n",
       "      <td>84</td>\n",
       "      <td>hiv1_groupM_gagpol_aligned</td>\n",
       "      <td>-</td>\n",
       "      <td>1435</td>\n",
       "      <td>2.500000e-53</td>\n",
       "      <td>181.3</td>\n",
       "      <td>0.1</td>\n",
       "      <td>1</td>\n",
       "      <td>...</td>\n",
       "      <td>181.2</td>\n",
       "      <td>0.1</td>\n",
       "      <td>662</td>\n",
       "      <td>745</td>\n",
       "      <td>1</td>\n",
       "      <td>84</td>\n",
       "      <td>1</td>\n",
       "      <td>84</td>\n",
       "      <td>0.99</td>\n",
       "      <td>445 length=251</td>\n",
       "    </tr>\n",
       "    <tr>\n",
       "      <th>2</th>\n",
       "      <td>SRR4071764.1478_2</td>\n",
       "      <td>-</td>\n",
       "      <td>84</td>\n",
       "      <td>hiv1_groupM_gagpol_aligned</td>\n",
       "      <td>-</td>\n",
       "      <td>1435</td>\n",
       "      <td>3.200000e-53</td>\n",
       "      <td>181.0</td>\n",
       "      <td>0.1</td>\n",
       "      <td>1</td>\n",
       "      <td>...</td>\n",
       "      <td>180.8</td>\n",
       "      <td>0.1</td>\n",
       "      <td>658</td>\n",
       "      <td>740</td>\n",
       "      <td>1</td>\n",
       "      <td>83</td>\n",
       "      <td>1</td>\n",
       "      <td>84</td>\n",
       "      <td>0.99</td>\n",
       "      <td>1478 length=251</td>\n",
       "    </tr>\n",
       "    <tr>\n",
       "      <th>3</th>\n",
       "      <td>SRR4071764.1074_1</td>\n",
       "      <td>-</td>\n",
       "      <td>84</td>\n",
       "      <td>hiv1_groupM_gagpol_aligned</td>\n",
       "      <td>-</td>\n",
       "      <td>1435</td>\n",
       "      <td>5.100000e-53</td>\n",
       "      <td>180.3</td>\n",
       "      <td>0.1</td>\n",
       "      <td>1</td>\n",
       "      <td>...</td>\n",
       "      <td>180.1</td>\n",
       "      <td>0.1</td>\n",
       "      <td>656</td>\n",
       "      <td>739</td>\n",
       "      <td>1</td>\n",
       "      <td>84</td>\n",
       "      <td>1</td>\n",
       "      <td>84</td>\n",
       "      <td>0.99</td>\n",
       "      <td>1074 length=251</td>\n",
       "    </tr>\n",
       "    <tr>\n",
       "      <th>4</th>\n",
       "      <td>SRR4071764.1004_6</td>\n",
       "      <td>-</td>\n",
       "      <td>84</td>\n",
       "      <td>hiv1_groupM_gagpol_aligned</td>\n",
       "      <td>-</td>\n",
       "      <td>1435</td>\n",
       "      <td>8.200000e-53</td>\n",
       "      <td>179.6</td>\n",
       "      <td>0.1</td>\n",
       "      <td>1</td>\n",
       "      <td>...</td>\n",
       "      <td>179.5</td>\n",
       "      <td>0.1</td>\n",
       "      <td>663</td>\n",
       "      <td>745</td>\n",
       "      <td>1</td>\n",
       "      <td>83</td>\n",
       "      <td>1</td>\n",
       "      <td>84</td>\n",
       "      <td>0.99</td>\n",
       "      <td>1004 length=251</td>\n",
       "    </tr>\n",
       "  </tbody>\n",
       "</table>\n",
       "<p>5 rows × 23 columns</p>\n",
       "</div>"
      ],
      "text/plain": [
       "         target_name target_accession tlen                  query_name  \\\n",
       "0   SRR4071764.696_1                -   84  hiv1_groupM_gagpol_aligned   \n",
       "1   SRR4071764.445_6                -   84  hiv1_groupM_gagpol_aligned   \n",
       "2  SRR4071764.1478_2                -   84  hiv1_groupM_gagpol_aligned   \n",
       "3  SRR4071764.1074_1                -   84  hiv1_groupM_gagpol_aligned   \n",
       "4  SRR4071764.1004_6                -   84  hiv1_groupM_gagpol_aligned   \n",
       "\n",
       "  query_accession  qlen       E_value  score bias domain_num  ...  \\\n",
       "0               -  1435  2.300000e-53  181.4  0.1          1  ...   \n",
       "1               -  1435  2.500000e-53  181.3  0.1          1  ...   \n",
       "2               -  1435  3.200000e-53  181.0  0.1          1  ...   \n",
       "3               -  1435  5.100000e-53  180.3  0.1          1  ...   \n",
       "4               -  1435  8.200000e-53  179.6  0.1          1  ...   \n",
       "\n",
       "  domain_score domain_bias hmm_from hmm_to ali_from ali_to env_from  env_to  \\\n",
       "0        181.3         0.1      661    744        1     84        1      84   \n",
       "1        181.2         0.1      662    745        1     84        1      84   \n",
       "2        180.8         0.1      658    740        1     83        1      84   \n",
       "3        180.1         0.1      656    739        1     84        1      84   \n",
       "4        179.5         0.1      663    745        1     83        1      84   \n",
       "\n",
       "   accuracy description_of_target  \n",
       "0      0.99        696 length=251  \n",
       "1      0.99        445 length=251  \n",
       "2      0.99       1478 length=251  \n",
       "3      0.99       1074 length=251  \n",
       "4      0.99       1004 length=251  \n",
       "\n",
       "[5 rows x 23 columns]"
      ]
     },
     "execution_count": 44,
     "metadata": {},
     "output_type": "execute_result"
    }
   ],
   "source": [
    "def parse_domtblout(file_path):\n",
    "    # Store parsed lines\n",
    "    records = []\n",
    "\n",
    "    with open(file_path) as f:\n",
    "        for line in f:\n",
    "            if line.startswith(\"#\"):\n",
    "                continue\n",
    "            parts = line.strip().split(maxsplit=22)  # 23 fields expected\n",
    "            if len(parts) == 23:\n",
    "                records.append(parts)\n",
    "\n",
    "    # Convert to DataFrame\n",
    "    df = pd.DataFrame(records, columns=[\n",
    "        \"target_name\", \"target_accession\", \"tlen\",\n",
    "        \"query_name\", \"query_accession\", \"qlen\",\n",
    "        \"E_value\", \"score\", \"bias\",\n",
    "        \"domain_num\", \"domain_total\",\n",
    "        \"c_Evalue\", \"i_Evalue\", \"domain_score\", \"domain_bias\",\n",
    "        \"hmm_from\", \"hmm_to\",\n",
    "        \"ali_from\", \"ali_to\",\n",
    "        \"env_from\", \"env_to\",\n",
    "        \"accuracy\", \"description_of_target\"\n",
    "    ])\n",
    "\n",
    "    # Convert numeric columns to appropriate types\n",
    "    df[\"E_value\"] = df[\"E_value\"].astype(float)\n",
    "    df[\"score\"] = df[\"score\"].astype(float)\n",
    "    df[\"ali_from\"] = df[\"ali_from\"].astype(int)\n",
    "    df[\"ali_to\"] = df[\"ali_to\"].astype(int)\n",
    "\n",
    "    return df\n",
    "\n",
    "domtbl_file = \"hmmsearch_results.domtbl\"\n",
    "hits_df = parse_domtblout(domtbl_file)\n",
    "\n",
    "# Preview top hits\n",
    "hits_df.head()\n"
   ]
  },
  {
   "cell_type": "code",
   "execution_count": 45,
   "id": "f5367017",
   "metadata": {},
   "outputs": [
    {
     "data": {
      "image/png": "[encoded data removed]",
      "text/plain": [
       "<Figure size 1200x400 with 1 Axes>"
      ]
     },
     "metadata": {},
     "output_type": "display_data"
    }
   ],
   "source": [
    "\n",
    "def plot_hmm_coverage(df, hmm_length=None):\n",
    "    if hmm_length is None:\n",
    "        hmm_length = df[\"hmm_to\"].astype(int).max()\n",
    "    \n",
    "    coverage = np.zeros(hmm_length + 1)\n",
    "\n",
    "    for _, row in df.iterrows():\n",
    "        start = int(row[\"hmm_from\"])\n",
    "        end = int(row[\"hmm_to\"])\n",
    "        coverage[start:end+1] += 1\n",
    "\n",
    "    plt.figure(figsize=(12, 4))\n",
    "    plt.plot(range(1, hmm_length + 1), coverage[1:], linewidth=2)\n",
    "    plt.title(\"Coverage of pHMM by Aligned Translated Reads\")\n",
    "    plt.xlabel(\"HMM Position\")\n",
    "    plt.ylabel(\"Read Coverage\")\n",
    "    plt.grid(True)\n",
    "    plt.tight_layout()\n",
    "    plt.show()\n",
    "\n",
    "hits_df = parse_domtblout(\"hmmsearch_results.domtbl\")\n",
    "plot_hmm_coverage(hits_df)"
   ]
  },
  {
   "cell_type": "code",
   "execution_count": 46,
   "id": "4432a244",
   "metadata": {},
   "outputs": [],
   "source": [
    "def extract_top_hits(domtbl_file, fasta_file, output_file, evalue_threshold=1e-5):\n",
    "    # Step 1: Parse domtblout file\n",
    "    top_hits = set()\n",
    "    with open(domtbl_file) as f:\n",
    "        for line in f:\n",
    "            if line.startswith(\"#\"):\n",
    "                continue\n",
    "            parts = line.strip().split()\n",
    "            target_name = parts[0]  # Sequence ID\n",
    "            evalue = float(parts[6])  # E-value\n",
    "            if evalue < evalue_threshold:\n",
    "                top_hits.add(target_name)\n",
    "\n",
    "    print(f\"Found {len(top_hits)} top hits below E-value {evalue_threshold}\")\n",
    "\n",
    "    # Step 2: Extract matching sequences from translated reads\n",
    "    records = SeqIO.parse(fasta_file, \"fasta\")\n",
    "    matched_records = [r for r in records if r.id in top_hits]\n",
    "\n",
    "    # Step 3: Write to output\n",
    "    SeqIO.write(matched_records, output_file, \"fasta\")\n",
    "    print(f\"Saved {len(matched_records)} sequences to {output_file}\")"
   ]
  },
  {
   "cell_type": "code",
   "execution_count": null,
   "id": "752779e1",
   "metadata": {},
   "outputs": [
    {
     "name": "stdout",
     "output_type": "stream",
     "text": [
      "Found 3296 top hits below E-value 1e-05\n",
      "Saved 6592 sequences to top_hits.fasta\n"
     ]
    }
   ],
   "source": [
    "extract_top_hits(\n",
    "    domtbl_file=\"hmmsearch_results.domtbl\",\n",
    "    fasta_file=\"SRR4071764_aa.fasta\",\n",
    "    output_file=\"top_hits.fasta\",\n",
    "    evalue_threshold=1e-5\n",
    ")"
   ]
  },
  {
   "cell_type": "code",
   "execution_count": 48,
   "id": "59886b0f",
   "metadata": {},
   "outputs": [
    {
     "name": "stdout",
     "output_type": "stream",
     "text": [
      "hmmalign completed successfully.\n",
      "\n",
      "\n"
     ]
    }
   ],
   "source": [
    "# Paths\n",
    "hmm_file = \"hiv1_gagpol.hmm\"\n",
    "reads_file = \"top_hits.fasta\"\n",
    "aligned_output = \"aligned_reads.sto\"\n",
    "\n",
    "# Run hmmalign\n",
    "command = [\n",
    "    \"hmmalign\",\n",
    "    \"--mapali\", \"hiv1_groupM_gagpol_aligned.sto\",\n",
    "    \"--outformat\", \"Stockholm\",\n",
    "    \"-o\", aligned_output,\n",
    "    hmm_file,\n",
    "    reads_file\n",
    "]\n",
    "\n",
    "try:\n",
    "    result = subprocess.run(command, check=True, capture_output=True, text=True)\n",
    "    print(\"hmmalign completed successfully.\\n\")\n",
    "    print(result.stdout)  # Optionally show some log output\n",
    "except subprocess.CalledProcessError as e:\n",
    "    print(\"Error running hmmalign:\")\n",
    "    print(e.stderr)"
   ]
  },
  {
   "cell_type": "code",
   "execution_count": 49,
   "id": "42ad4d48",
   "metadata": {},
   "outputs": [
    {
     "name": "stdout",
     "output_type": "stream",
     "text": [
      "Reference sequence ID: 0000|sp|P04588|POL_HV1MA\n"
     ]
    }
   ],
   "source": [
    "# File path to aligned Stockholm file from hmmalign\n",
    "alignment_file = \"aligned_reads.sto\"\n",
    "\n",
    "# Resistance mutations\n",
    "resistance_sites = {\n",
    "    41: (\"M\", [\"L\"]),\n",
    "    67: (\"D\", [\"N\"]),\n",
    "    70: (\"K\", [\"R\"]),\n",
    "    210: (\"L\", [\"W\"]),\n",
    "    215: (\"T\", [\"Y\", \"F\"]),\n",
    "    219: (\"K\", [\"Q\", \"E\"]),\n",
    "}\n",
    "\n",
    "# Load alignment\n",
    "alignment = AlignIO.read(alignment_file, \"stockholm\")\n",
    "\n",
    "# Detect reference/model sequence based on ID format used in Stockholm output\n",
    "ref_seq_record = next(\n",
    "    (rec for rec in alignment if \"|sp|\" in rec.id), None\n",
    ")\n",
    "\n",
    "if not ref_seq_record:\n",
    "    raise ValueError(\"Reference (model) sequence not found in alignment.\")\n",
    "\n",
    "ref_seq = ref_seq_record.seq\n",
    "print(f\"Reference sequence ID: {ref_seq_record.id}\")"
   ]
  },
  {
   "cell_type": "code",
   "execution_count": 50,
   "id": "f636b1f4",
   "metadata": {},
   "outputs": [
    {
     "name": "stdout",
     "output_type": "stream",
     "text": [
      "📊 Resistance Mutation Summary:\n",
      " - M41L: 32 reads\n",
      "\n",
      "📄 Sample of reads with mutations:\n",
      "0000|sp|P04588|POL_HV1MA: M41L\n",
      "0001|sp|P24740|POL_HV1U4: M41L\n",
      "0002|sp|P24736|GAG_HV1U4: M41L\n",
      "0003|sp|P12498|POL_HV1J3: M41L\n",
      "0004|sp|P05960|POL_HV1C4: M41L\n",
      "0005|sp|P03367|POL_HV1BR: M41L\n",
      "0006|sp|O12158|POL_HV192: M41L\n",
      "0007|sp|Q75002|POL_HV1ET: M41L\n",
      "0008|sp|O12157|GAG_HV192: M41L\n",
      "0009|sp|P18802|POL_HV1ND: M41L\n"
     ]
    }
   ],
   "source": [
    "# Build map from alignment position to reference AA position (excluding gaps)\n",
    "ref_pos_map = {}\n",
    "aa_counter = 0\n",
    "for i, aa in enumerate(ref_seq):\n",
    "    if aa != \"-\":\n",
    "        aa_counter += 1\n",
    "        ref_pos_map[i] = aa_counter  # alignment index → reference amino acid position\n",
    "\n",
    "# Reverse map: reference AA pos → alignment index\n",
    "ref_to_align_index = {v: k for k, v in ref_pos_map.items()}\n",
    "\n",
    "# Scan all reads for resistance mutations\n",
    "mutation_counts = defaultdict(int)\n",
    "mutation_details = []\n",
    "\n",
    "for record in alignment:\n",
    "    if record.id.lower().startswith(\"hmm\"):\n",
    "        continue  # skip model/reference\n",
    "    \n",
    "    seq = record.seq\n",
    "    mutations_in_read = []\n",
    "\n",
    "    for site, (wild, resist_list) in resistance_sites.items():\n",
    "        if site not in ref_to_align_index:\n",
    "            continue  # site missing in this alignment\n",
    "\n",
    "        align_idx = ref_to_align_index[site]\n",
    "        if align_idx >= len(seq):\n",
    "            continue  # truncated\n",
    "\n",
    "        aa = seq[align_idx]\n",
    "        if aa in resist_list:\n",
    "            mutations_in_read.append(f\"{wild}{site}{aa}\")\n",
    "\n",
    "    if mutations_in_read:\n",
    "        for m in mutations_in_read:\n",
    "            mutation_counts[m] += 1\n",
    "        mutation_details.append((record.id, mutations_in_read))\n",
    "\n",
    "# Display mutation summary\n",
    "print(\"📊 Resistance Mutation Summary:\")\n",
    "for mutation, count in mutation_counts.items():\n",
    "    print(f\" - {mutation}: {count} reads\")\n",
    "\n",
    "# Optionally show details\n",
    "print(\"\\n📄 Sample of reads with mutations:\")\n",
    "for read_id, muts in mutation_details[:10]:\n",
    "    print(f\"{read_id}: {', '.join(muts)}\")"
   ]
  },
  {
   "cell_type": "code",
   "execution_count": 52,
   "id": "7694e608",
   "metadata": {},
   "outputs": [
    {
     "name": "stdout",
     "output_type": "stream",
     "text": [
      "📊 Resistance Mutation Frequencies:\n",
      " - M41L: 0.48%\n"
     ]
    }
   ],
   "source": [
    "total_reads = sum(1 for record in alignment if not record.id.startswith(\"hmm\"))\n",
    "mutation_frequencies = {\n",
    "    mut: count / total_reads for mut, count in mutation_counts.items()\n",
    "}\n",
    "\n",
    "print(\"📊 Resistance Mutation Frequencies:\")\n",
    "for mut, freq in mutation_frequencies.items():\n",
    "    print(f\" - {mut}: {freq:.2%}\")\n"
   ]
  },
  {
   "cell_type": "code",
   "execution_count": 54,
   "id": "c7409b22",
   "metadata": {},
   "outputs": [
    {
     "name": "stdout",
     "output_type": "stream",
     "text": [
      "Detected AZT Resistance Mutations:\n",
      "\n",
      "🔍 0001|sp|P24740|POL_HV1U4:\n",
      "  - Position 41: M→L\n",
      "\n",
      "🔍 0002|sp|P24736|GAG_HV1U4:\n",
      "  - Position 41: M→L\n",
      "\n",
      "🔍 0003|sp|P12498|POL_HV1J3:\n",
      "  - Position 41: M→L\n",
      "\n",
      "🔍 0004|sp|P05960|POL_HV1C4:\n",
      "  - Position 41: M→L\n",
      "\n",
      "🔍 0005|sp|P03367|POL_HV1BR:\n",
      "  - Position 41: M→L\n",
      "\n",
      "🔍 0006|sp|O12158|POL_HV192:\n",
      "  - Position 41: M→L\n",
      "\n",
      "🔍 0007|sp|Q75002|POL_HV1ET:\n",
      "  - Position 41: M→L\n",
      "\n",
      "🔍 0008|sp|O12157|GAG_HV192:\n",
      "  - Position 41: M→L\n",
      "\n",
      "🔍 0009|sp|P18802|POL_HV1ND:\n",
      "  - Position 41: M→L\n",
      "\n",
      "🔍 0010|sp|P04589|POL_HV1EL:\n",
      "  - Position 41: M→L\n",
      "\n",
      "🔍 0012|sp|Q9QBZ5|POL_HV1MP:\n",
      "  - Position 41: M→L\n",
      "\n",
      "🔍 0013|sp|O89290|POL_HV193:\n",
      "  - Position 41: M→L\n",
      "\n",
      "🔍 0014|sp|Q9QBZ1|POL_HV1M2:\n",
      "  - Position 41: M→L\n",
      "\n",
      "🔍 0015|sp|O89940|POL_HV1SE:\n",
      "  - Position 41: M→L\n",
      "\n",
      "🔍 0016|sp|O41798|POL_HV19N:\n",
      "  - Position 41: M→L\n",
      "\n",
      "🔍 0017|sp|P0C1K7|GAG_HV19N:\n",
      "  - Position 41: M→L\n",
      "\n",
      "🔍 0018|sp|Q9Q720|POL_HV1V9:\n",
      "  - Position 41: M→L\n",
      "\n",
      "🔍 0019|sp|O93215|POL_HV190:\n",
      "  - Position 41: M→L\n",
      "\n",
      "🔍 0020|sp|O93182|GAG_HV190:\n",
      "  - Position 41: M→L\n",
      "\n",
      "🔍 0021|sp|Q9WC63|POL_HV1S9:\n",
      "  - Position 41: M→L\n",
      "\n",
      "🔍 0022|sp|Q9WC54|POL_HV1S2:\n",
      "  - Position 41: M→L\n",
      "\n",
      "🔍 0023|sp|Q9WC53|GAG_HV1S2:\n",
      "  - Position 41: M→L\n",
      "\n",
      "🔍 0024|sp|Q9QBY3|POL_HV196:\n",
      "  - Position 41: M→L\n",
      "\n",
      "🔍 0025|sp|Q9QBZ9|POL_HV197:\n",
      "  - Position 41: M→L\n",
      "\n",
      "🔍 0026|sp|Q9QBY4|GAG_HV196:\n",
      "  - Position 41: M→L\n",
      "\n",
      "🔍 0027|sp|O91080|POL_HV1YF:\n",
      "  - Position 41: M→L\n",
      "\n",
      "🔍 0028|sp|Q9IDV9|POL_HV1YB:\n",
      "  - Position 41: M→L\n",
      "\n",
      "🔍 0029|sp|O91079|GAG_HV1YF:\n",
      "  - Position 41: M→L\n",
      "\n",
      "🔍 0030|sp|Q77373|POL_HV1AN:\n",
      "  - Position 41: M→L\n",
      "\n",
      "🔍 0031|sp|Q79666|POL_HV1MV:\n",
      "  - Position 41: M→L\n",
      "\n",
      "🔍 0032|sp|Q79665|GAG_HV1MV:\n",
      "  - Position 41: M→L\n",
      "\n"
     ]
    }
   ],
   "source": [
    "# Map alignment indices to RT codon positions\n",
    "codon_map = {}\n",
    "codon_pos = 1\n",
    "for i, aa in enumerate(ref_seq):\n",
    "    if aa != '-':\n",
    "        codon_map[i] = codon_pos\n",
    "        codon_pos += 1\n",
    "\n",
    "# Store mutation results\n",
    "mutation_counts = defaultdict(list)\n",
    "\n",
    "# Check each patient read\n",
    "for record in alignment[1:]:  # skip reference\n",
    "    patient_id = record.id\n",
    "    seq = str(record.seq)\n",
    "\n",
    "    for align_idx, rt_pos in codon_map.items():\n",
    "        if rt_pos in resistance_sites:\n",
    "            wt_aa, mutations = resistance_sites[rt_pos]\n",
    "            aa = seq[align_idx]\n",
    "\n",
    "            if aa in mutations:\n",
    "                mutation_counts[patient_id].append((rt_pos, wt_aa + \"→\" + aa))\n",
    "\n",
    "# Output results\n",
    "print(\"Detected AZT Resistance Mutations:\\n\")\n",
    "if not mutation_counts:\n",
    "    print(\"❌ No AZT resistance mutations detected in aligned reads.\")\n",
    "else:\n",
    "    for read_id, muts in mutation_counts.items():\n",
    "        print(f\"🔍 {read_id}:\")\n",
    "        for pos, mut in muts:\n",
    "            print(f\"  - Position {pos}: {mut}\")\n",
    "        print()"
   ]
  }
 ],
 "metadata": {
  "kernelspec": {
   "display_name": "base",
   "language": "python",
   "name": "python3"
  },
  "language_info": {
   "codemirror_mode": {
    "name": "ipython",
    "version": 3
   },
   "file_extension": ".py",
   "mimetype": "text/x-python",
   "name": "python",
   "nbconvert_exporter": "python",
   "pygments_lexer": "ipython3",
   "version": "3.12.2"
  }
 },
 "nbformat": 4,
 "nbformat_minor": 5
}
